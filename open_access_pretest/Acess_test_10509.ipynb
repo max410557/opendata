{
 "cells": [
  {
   "cell_type": "markdown",
   "metadata": {},
   "source": []
  },
  {
   "cell_type": "code",
   "execution_count": 1,
   "metadata": {
    "collapsed": false
   },
   "outputs": [],
   "source": [
    "import os\n",
    "import re\n",
    "import cgi\n",
    "import requests\n",
    "import mimetypes\n",
    "import xlrd\n",
    "import xlsxwriter\n",
    "import time\n",
    "import requests\n",
    "import csv\n",
    "import json\n",
    "import os.path\n",
    "import chardet"
   ]
  },
  {
   "cell_type": "markdown",
   "metadata": {},
   "source": [
    "# input model"
   ]
  },
  {
   "cell_type": "code",
   "execution_count": 2,
   "metadata": {
    "collapsed": false
   },
   "outputs": [],
   "source": [
    "access_rawdata = r''\n",
    "def getRows():\n",
    "    with open(access_rawdata, encoding = 'utf-8') as csvfile:\n",
    "        spamreader = csv.reader(csvfile, delimiter = ',')\n",
    "        next(spamreader)\n",
    "        models = list()\n",
    "        for row in spamreader:\n",
    "            model = dict()\n",
    "            model['nid'] = row[0]\n",
    "            model['title'] = row[1]\n",
    "            model['subOrg'] = row[2]\n",
    "            model['dataset_link'] = row[3]\n",
    "            model['field_description'] = row[4]\n",
    "            model['resource_link'] = row[5]\n",
    "            model['resource_Writeformat'] = row[6]\n",
    "            model['resource_WriteCharset'] = row[7]\n",
    "            model['linkcode'] = None\n",
    "            model['true_format'] = None\n",
    "            model['true_Charset'] = None\n",
    "            model['columnAlike'] = None\n",
    "            models.append(model)\n",
    "        return (models)"
   ]
  },
  {
   "cell_type": "code",
   "execution_count": 3,
   "metadata": {
    "collapsed": false
   },
   "outputs": [],
   "source": [
    "data_list = getRows()"
   ]
  },
  {
   "cell_type": "markdown",
   "metadata": {},
   "source": [
    "# machine-readable(structural)"
   ]
  },
  {
   "cell_type": "code",
   "execution_count": 4,
   "metadata": {
    "collapsed": false
   },
   "outputs": [],
   "source": [
    "def get_machine_readable():\n",
    "    machine_readable = [\n",
    "        'csv',\n",
    "        'CSV',\n",
    "        'json',\n",
    "        'xml',\n",
    "        'vnd.google-earth.kml+xml',\n",
    "        'xlsx',\n",
    "        'kmz',\n",
    "        'xls',\n",
    "        'ods',\n",
    "        'ODS',\n",
    "        'XML',\n",
    "        'vnd.ms-excel',\n",
    "        'vnd.ms-excel.12'\n",
    "        \n",
    "    ]\n",
    "    return machine_readable"
   ]
  },
  {
   "cell_type": "markdown",
   "metadata": {
    "collapsed": false,
    "scrolled": false
   },
   "source": [
    "# 連線測試:查看http response status code & file format"
   ]
  },
  {
   "cell_type": "code",
   "execution_count": 5,
   "metadata": {
    "collapsed": false
   },
   "outputs": [],
   "source": [
    "def linkingTest(url):\n",
    "    try:\n",
    "        response = requests.get(url, timeout = 3000)\n",
    "        #get the http response status code\n",
    "        status = response.status_code\n",
    "        linkcode = response\n",
    "        try:\n",
    "            if 'Content-Type' in response.headers:\n",
    "                typeparams, charset = cgi.parse_header(response.headers.get('Content-Type', ''))\n",
    "                content_type = (typeparams.split('/')[1])\n",
    "                if content_type == 'octet-stream':\n",
    "                    try:\n",
    "                        _, filenameparams = cgi.parse_header(response.headers.get('Content-Disposition',''))\n",
    "                        filename = filenameparams['filename']\n",
    "                        extension = os.path.splitext(filename)[1].strip('.')\n",
    "                        true_format = extension\n",
    "                    except:\n",
    "                        m = re.search(r'(\\.\\w*$)', url)\n",
    "                        if m:\n",
    "                            true_format = m.group(1).strip('.')\n",
    "                        else:\n",
    "                            true_format = 'unknow'\n",
    "                else:\n",
    "                    true_format = content_type\n",
    "            else:\n",
    "                true_format = \"NoFileFounded\"\n",
    "        except:\n",
    "            true_format = 'unknow'\n",
    "    except:\n",
    "        linkcode = 'Error'\n",
    "        true_format = 'Error'\n",
    "    return linkcode, true_format"
   ]
  },
  {
   "cell_type": "markdown",
   "metadata": {},
   "source": [
    "# charset detect"
   ]
  },
  {
   "cell_type": "code",
   "execution_count": 6,
   "metadata": {
    "collapsed": true
   },
   "outputs": [],
   "source": [
    "def charsetTest(url):\n",
    "    try:\n",
    "        with requests.Session() as s:\n",
    "            download = s.get(url, timeout =10)\n",
    "            content = download.content\n",
    "            result = chardet.detect(content)\n",
    "            charset = result['encoding']\n",
    "    except:\n",
    "        charset = 'None'\n",
    "    return charset\n",
    "    "
   ]
  },
  {
   "cell_type": "markdown",
   "metadata": {},
   "source": [
    "# field description clean"
   ]
  },
  {
   "cell_type": "code",
   "execution_count": 7,
   "metadata": {
    "collapsed": true
   },
   "outputs": [],
   "source": [
    "def fieldDescriptionClean(column):\n",
    "    description = column.replace('\\n','').replace('\\t','').strip()\n",
    "    description_list = (re.split('、|,|，',description))\n",
    "    \n",
    "    try:\n",
    "        for n, col in enumerate(description_list):\n",
    "            if col.find('(') and col.endswith(')'):\n",
    "                m = re.match(r'(.*)\\(.*\\)',col)\n",
    "                description_list[n] = m.group(1)\n",
    "    except:\n",
    "        pass\n",
    "    \n",
    "    return description_list"
   ]
  },
  {
   "cell_type": "markdown",
   "metadata": {
    "collapsed": true
   },
   "source": [
    "# csv column matcher"
   ]
  },
  {
   "cell_type": "code",
   "execution_count": 8,
   "metadata": {
    "collapsed": false
   },
   "outputs": [],
   "source": [
    "def csvColMatching(url,charset,writed_column):\n",
    "    with requests.Session() as s:\n",
    "        try:\n",
    "            download = s.get(url)\n",
    "            decoded_content = download.content.decode(charset)\n",
    "            cr = csv.reader(decoded_content.splitlines(), delimiter = ',')\n",
    "            content_list = list(cr)\n",
    "            headingCol = content_list[1]\n",
    "            if '\\ufeff' in headingCol[0]:\n",
    "                headingCol[0] = headingCol[0].replace('\\ufeff', '')\n",
    "            if set(writed_column) == set(headingCol):\n",
    "                Col_matching = 'True'\n",
    "            else:\n",
    "                Col_matching = 'False'\n",
    "\n",
    "        except Exception as e:\n",
    "            Col_matching = str(e)\n",
    "    return Col_matching"
   ]
  },
  {
   "cell_type": "markdown",
   "metadata": {},
   "source": [
    "# xml column matcher"
   ]
  },
  {
   "cell_type": "code",
   "execution_count": 9,
   "metadata": {
    "collapsed": true
   },
   "outputs": [],
   "source": [
    "def xmlColMatching(url, charset, writed_column):\n",
    "    try:\n",
    "        XML = requests.get(url, timeout = 10).content.decode(charset)\n",
    "        root = ET.fromstring(XML)\n",
    "        tag_list = list()\n",
    "        for descendant in root.findall(\".//*\"):\n",
    "            if descendant.tag not in tag_list:\n",
    "                tag_list.append(descendant.tag)\n",
    "        for n,tag in enumerate(tag_list):\n",
    "            if tag.startswith('{') and tag.find('}'):\n",
    "                m = re.match(r'({.*})(.*)',tag)\n",
    "                tag_list[n] = m.group(2)\n",
    "        if len(list(set(writed_column).intersection(set(tag_list)))) == len(writed_column):\n",
    "            Col_matching = 'True'\n",
    "        else:\n",
    "            Col_matching = 'False'\n",
    "    except Exception as e:\n",
    "        Col_matching = str(e)\n",
    "    return Col_matching\n",
    "            "
   ]
  },
  {
   "cell_type": "code",
   "execution_count": null,
   "metadata": {
    "collapsed": true
   },
   "outputs": [],
   "source": []
  },
  {
   "cell_type": "markdown",
   "metadata": {},
   "source": [
    "# json column matcher"
   ]
  },
  {
   "cell_type": "code",
   "execution_count": 10,
   "metadata": {
    "collapsed": false
   },
   "outputs": [],
   "source": [
    "def jsonColMatching(url,charset,writed_column):\n",
    "    try:\n",
    "        with requests.Session() as s:\n",
    "            download = s.get(url, timeout = 10)\n",
    "            decoded_content = download.content.decode(charset)\n",
    "            json_obj = json.loads(decoded_content)\n",
    "            json_key = list()\n",
    "            for i in json_obj:\n",
    "                for key in i.keys():\n",
    "                    if key not in json_key:\n",
    "                        json_key.append(key)\n",
    "            if set(writed_column) == set(json_key):\n",
    "                Col_matching = 'True'\n",
    "            else:\n",
    "                Col_matching = 'Flase'\n",
    "    except Exception as e:\n",
    "            Col_matching = str(e)\n",
    "    return Col_matching"
   ]
  },
  {
   "cell_type": "code",
   "execution_count": null,
   "metadata": {
    "collapsed": false
   },
   "outputs": [],
   "source": []
  },
  {
   "cell_type": "markdown",
   "metadata": {},
   "source": [
    "# xls and xlsx column matcher"
   ]
  },
  {
   "cell_type": "code",
   "execution_count": 11,
   "metadata": {
    "collapsed": true
   },
   "outputs": [],
   "source": [
    "def excelColMatching(url, writed_column):\n",
    "    try:\n",
    "        with requests.Session() as s:\n",
    "            download = s.get(url, timeout = 10)\n",
    "            decoded_content = download.content\n",
    "            wb = xlrd.open_workbook(file_contents = decoded_content, encoding_override = 'cp950')\n",
    "            table = wb.sheets()[0]\n",
    "            nrows = table.nrows\n",
    "            xls_heading = table.row_values(0)\n",
    "        if set (xls_heading) == set (writed_column):\n",
    "            Col_matching = 'True'\n",
    "        else:\n",
    "            Col_matching = 'False'\n",
    "    except Exception as e:\n",
    "        Col_matching = str(e)\n",
    "    return Col_matching"
   ]
  },
  {
   "cell_type": "markdown",
   "metadata": {},
   "source": []
  },
  {
   "cell_type": "code",
   "execution_count": null,
   "metadata": {
    "collapsed": true
   },
   "outputs": [],
   "source": []
  },
  {
   "cell_type": "markdown",
   "metadata": {},
   "source": []
  },
  {
   "cell_type": "code",
   "execution_count": null,
   "metadata": {
    "collapsed": true
   },
   "outputs": [],
   "source": []
  },
  {
   "cell_type": "markdown",
   "metadata": {},
   "source": [
    "# Run"
   ]
  },
  {
   "cell_type": "code",
   "execution_count": 12,
   "metadata": {
    "collapsed": false
   },
   "outputs": [],
   "source": [
    "import sys\n",
    "machine_readable = get_machine_readable()\n",
    "for data in data_list:\n",
    "    url = data['resource_link']\n",
    "    write_Charset = data['resource_WriteCharset']\n",
    "    link_test = linkingTest(url)\n",
    "    data['linkcode'] = link_test[0]\n",
    "    data['true_format'] = link_test[1]\n",
    "    if data['true_format'] in ('', 'plain','unknow'):\n",
    "        data['true_format'] = data['resource_Writeformat']\n",
    "    \n",
    "    \n",
    "    if data['true_format'] in machine_readable:\n",
    "        charset = charsetTest(url)\n",
    "        data['true_Charset'] = charset\n",
    "        description_list = fieldDescriptionClean(data['field_description'])\n",
    "        \n",
    "        if data['true_format'] == 'CSV' or 'csv':\n",
    "            ColMatching = csvColMatching(url, charset, description_list)\n",
    "            data['columnAlike'] = ColMatching\n",
    "\n",
    "        elif data['true_format'] == 'xml':\n",
    "            ColMatching = xmlColMatching(url, charset, description_list)\n",
    "            data['columnAlike'] = ColMatching\n",
    "        elif data['true_format'] == 'json':\n",
    "            ColMatching = jsonColMatching(url, description_list)\n",
    "            data['columnAlike'] = ColMatching\n",
    "\n",
    "        elif data['true_format'] == 'xls' or data['true_format'] == 'xlsx':\n",
    "            ColMatching = excelColMatching(url, description_list)\n",
    "            data['columnAlike'] = ColMatching\n",
    "            \n",
    "        "
   ]
  },
  {
   "cell_type": "markdown",
   "metadata": {
    "collapsed": false,
    "scrolled": false
   },
   "source": [
    "# Excel Writing"
   ]
  },
  {
   "cell_type": "code",
   "execution_count": 13,
   "metadata": {
    "collapsed": false
   },
   "outputs": [
    {
     "name": "stdout",
     "output_type": "stream",
     "text": [
      "CREATE EXCEL...\n"
     ]
    }
   ],
   "source": [
    "print(\"CREATE EXCEL...\")\n",
    "workbook = xlsxwriter.Workbook('Tourism_result_105_09_19_1.xls', {'strings_to_urls': False})\n",
    "worksheet = workbook.add_worksheet(u'評鑑範例表')\n",
    "row = 0\n",
    "col = 0\n",
    "# print title\n",
    "worksheet.write(row, col, u\"資料集Id\")\n",
    "worksheet.write(row, col + 1, u\"資料集名稱\")\n",
    "worksheet.write(row, col + 2, u\"資料所屬機關\")\n",
    "worksheet.write(row, col + 3, u\"資料集連結\")\n",
    "worksheet.write(row, col + 4, u\"主要欄位說明\")\n",
    "worksheet.write(row, col + 5, u\"資料資源下載連結\")\n",
    "worksheet.write(row, col + 6, u\"詮釋資料檔案格式\")\n",
    "worksheet.write(row, col + 7, u\"詮釋資料文字編碼\")\n",
    "worksheet.write(row, col + 8, u\"連線狀態\")\n",
    "worksheet.write(row, col + 9, u\"資料資源檔案格式\")\n",
    "worksheet.write(row, col + 10, u\"資料資源文字編碼\")\n",
    "worksheet.write(row, col + 11, u\"欄位是否相符\")\n",
    "\n",
    "row += 1\n",
    "for i in data_list:\n",
    "    nid = i['nid']\n",
    "    title = i['title']\n",
    "    subOrg = i['subOrg']\n",
    "    dataset_link = i['dataset_link']\n",
    "    field_description = i['field_description']\n",
    "    resource_link = i['resource_link']\n",
    "    resource_Writeformat = i['resource_Writeformat']\n",
    "    resource_WriteCharset = i['resource_WriteCharset']\n",
    "    linkStatus = i['linkcode']\n",
    "    TrueFormat = i['true_format']\n",
    "    TrueCharset = i['true_Charset']\n",
    "    columnAlike = i['columnAlike']\n",
    "        \n",
    "    worksheet.write(row, col, str(nid))\n",
    "    worksheet.write(row, col + 1, title)\n",
    "    worksheet.write(row, col + 2, subOrg)\n",
    "    worksheet.write(row, col + 3, dataset_link)\n",
    "    worksheet.write(row, col + 4, field_description)\n",
    "    worksheet.write(row, col + 5, resource_link)\n",
    "    worksheet.write(row, col + 6, resource_Writeformat)\n",
    "    worksheet.write(row, col + 7, resource_WriteCharset)\n",
    "    worksheet.write(row, col + 8, str(linkStatus))\n",
    "    worksheet.write(row, col + 9, TrueFormat)\n",
    "    worksheet.write(row, col + 10, str(TrueCharset))\n",
    "    worksheet.write(row, col + 11, columnAlike)\n",
    "    row += 1\n",
    "time.sleep(3)\n",
    "workbook.close()"
   ]
  },
  {
   "cell_type": "code",
   "execution_count": null,
   "metadata": {
    "collapsed": true
   },
   "outputs": [],
   "source": []
  },
  {
   "cell_type": "code",
   "execution_count": null,
   "metadata": {
    "collapsed": false
   },
   "outputs": [],
   "source": []
  },
  {
   "cell_type": "code",
   "execution_count": null,
   "metadata": {
    "collapsed": true
   },
   "outputs": [],
   "source": []
  },
  {
   "cell_type": "code",
   "execution_count": null,
   "metadata": {
    "collapsed": false,
    "scrolled": false
   },
   "outputs": [],
   "source": []
  },
  {
   "cell_type": "code",
   "execution_count": null,
   "metadata": {
    "collapsed": false,
    "scrolled": false
   },
   "outputs": [],
   "source": []
  },
  {
   "cell_type": "code",
   "execution_count": null,
   "metadata": {
    "collapsed": false,
    "scrolled": true
   },
   "outputs": [],
   "source": []
  },
  {
   "cell_type": "code",
   "execution_count": null,
   "metadata": {
    "collapsed": true
   },
   "outputs": [],
   "source": []
  },
  {
   "cell_type": "code",
   "execution_count": null,
   "metadata": {
    "collapsed": true
   },
   "outputs": [],
   "source": []
  },
  {
   "cell_type": "code",
   "execution_count": null,
   "metadata": {
    "collapsed": false
   },
   "outputs": [],
   "source": []
  },
  {
   "cell_type": "code",
   "execution_count": null,
   "metadata": {
    "collapsed": true
   },
   "outputs": [],
   "source": []
  },
  {
   "cell_type": "code",
   "execution_count": null,
   "metadata": {
    "collapsed": true
   },
   "outputs": [],
   "source": []
  },
  {
   "cell_type": "code",
   "execution_count": null,
   "metadata": {
    "collapsed": false
   },
   "outputs": [],
   "source": []
  },
  {
   "cell_type": "code",
   "execution_count": null,
   "metadata": {
    "collapsed": false
   },
   "outputs": [],
   "source": []
  }
 ],
 "metadata": {
  "kernelspec": {
   "display_name": "Python 3",
   "language": "python",
   "name": "python3"
  },
  "language_info": {
   "codemirror_mode": {
    "name": "ipython",
    "version": 3
   },
   "file_extension": ".py",
   "mimetype": "text/x-python",
   "name": "python",
   "nbconvert_exporter": "python",
   "pygments_lexer": "ipython3",
   "version": "3.5.1"
  }
 },
 "nbformat": 4,
 "nbformat_minor": 0
}
