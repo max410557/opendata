{
 "cells": [
  {
   "cell_type": "code",
   "execution_count": 1,
   "metadata": {
    "collapsed": true
   },
   "outputs": [],
   "source": [
    "import os\n",
    "import re\n",
    "import cgi\n",
    "import requests\n",
    "import mimetypes\n",
    "import xlrd\n",
    "import xlsxwriter\n",
    "import time\n",
    "import csv\n",
    "import json\n",
    "import os.path\n",
    "import chardet\n",
    "import xml.etree.ElementTree as ET\n"
   ]
  },
  {
   "cell_type": "code",
   "execution_count": 2,
   "metadata": {
    "collapsed": true
   },
   "outputs": [],
   "source": [
    "class Dao:\n",
    "    def get_rows(self, rawinput):\n",
    "        with open(rawinput, encoding = 'utf-8') as csvfile:\n",
    "            spamreader = csv.reader(csvfile, delimiter = ',')\n",
    "            next(spamreader)\n",
    "            models = list()\n",
    "            for row in spamreader:\n",
    "                model = dict()\n",
    "                model['nid'] = row[0]\n",
    "                model['title'] = row[1]\n",
    "                model['subOrg'] = row[2]\n",
    "                model['dataset_link'] = row[3]\n",
    "                model['field_description'] = row[4]\n",
    "                model['resource_link'] = row[5]\n",
    "                model['resource_Writeformat'] = row[6]\n",
    "                model['resource_WriteCharset'] = row[7]\n",
    "                model['linkcode'] = None\n",
    "                model['true_format'] = None\n",
    "                model['true_Charset'] = None\n",
    "                model['columnAlike'] = None\n",
    "                models.append(model)\n",
    "        return (models)\n",
    "    \n",
    "\n",
    "    def get_machine_readable(self):\n",
    "        machine_readable = [\n",
    "            'CSV',\n",
    "            'JSON',\n",
    "            'XML',\n",
    "            'VND.GOOGLE-EARTH.KML+XML',\n",
    "            'XLSX',\n",
    "            'KMZ',\n",
    "            'XLS',\n",
    "            'ODS',\n",
    "            'VND.MS-EXCEL',\n",
    "            'VND.MS-EXCEL.12'\n",
    "        ]\n",
    "        return machine_readable\n",
    "  \n"
   ]
  },
  {
   "cell_type": "code",
   "execution_count": 3,
   "metadata": {
    "collapsed": false
   },
   "outputs": [],
   "source": [
    "class HeaderDownloader:\n",
    "    \n",
    "    def __init__(self, url):\n",
    "        self.__url = url\n",
    "        \n",
    "    def get_response(self, url):\n",
    "        try:\n",
    "            browser_headers = {'User-Agent': 'Mozilla/5.0 (Windows NT 6.1; WOW64) AppleWebKit/537.36 (KHTML, like Gecko)\\\n",
    "                                Chrome/55.0.2883.75 Safari/537.36'}\n",
    "            response = requests.get(url, timeout = 3000, headers = browser_headers)\n",
    "        except Exception as e:\n",
    "            response = str(e)\n",
    "        return response \n",
    "    \n",
    "    def get_statuscode(self,response):\n",
    "        try:\n",
    "            linkecode = response.status_code\n",
    "        except:\n",
    "            linkecode = 'Error'\n",
    "        return linkecode\n",
    "    def get_fileformat(self, response):\n",
    "        try:\n",
    "            if 'Content-Type' in response.headers:\n",
    "                typeparams, charset = cgi.parse_header(response.headers.get('Content-Type', ''))\n",
    "                if typeparams == '':\n",
    "                    content_type = ''\n",
    "                else:\n",
    "                    content_type = (typeparams.split('/')[1])\n",
    "                if content_type in ('octet-stream','plain',''):\n",
    "                    try:\n",
    "                        _, filenameparams = cgi.parse_header(response.headers.get('Content-Disposition',''))\n",
    "                        filename = filenameparams['filename']\n",
    "                        extension = os.path.splitext(filename)[1].strip('.')\n",
    "                        true_format = extension\n",
    "                    except:\n",
    "                        m = re.search(r'(\\.\\w*$)', url)\n",
    "                        if m:\n",
    "                            true_format = m.group(1).strip('.')\n",
    "                        else:\n",
    "                            true_format = 'Unknow'\n",
    "                else:\n",
    "                    true_format = content_type\n",
    "            else:\n",
    "                true_format = \"NoFileFounded\"\n",
    "        except:\n",
    "            true_format = \"Unknow\"\n",
    "        return true_format"
   ]
  },
  {
   "cell_type": "code",
   "execution_count": null,
   "metadata": {
    "collapsed": false
   },
   "outputs": [],
   "source": []
  },
  {
   "cell_type": "code",
   "execution_count": null,
   "metadata": {
    "collapsed": false
   },
   "outputs": [],
   "source": []
  },
  {
   "cell_type": "code",
   "execution_count": 4,
   "metadata": {
    "collapsed": false
   },
   "outputs": [],
   "source": [
    "class ContentDownloader:\n",
    "    def __init__(self, url, column):\n",
    "        self.__url = url\n",
    "        self.__column = column\n",
    "\n",
    "    def get_session(self, url):\n",
    "        try:\n",
    "            with requests.Session() as s:\n",
    "                browser_headers = {'User-Agent': 'Mozilla/5.0 (Windows NT 6.1; WOW64) AppleWebKit/537.36 (KHTML, like Gecko)\\\n",
    "                Chrome/55.0.2883.75 Safari/537.36'}\n",
    "                download = s.get(url, timeout = 3000, headers = browser_headers)\n",
    "                content = download.content\n",
    "        except Exception as e:\n",
    "            content = str(e)\n",
    "        return content\n",
    "    \n",
    "    def charset_detect(self,content):\n",
    "        try:\n",
    "            charset = chardet.detect(content)['encoding']\n",
    "        except:\n",
    "            charset = 'None'\n",
    "        return charset\n",
    "    \n",
    "    def field_description_clean(self,column):\n",
    "        description = column.replace('\\n','').replace('\\t','').strip()\n",
    "        description_list = (re.split('、|,|，',description))\n",
    "        try:\n",
    "            for n, col in enumerate(description_list):\n",
    "                if col.find('(') and col.endswith(')'):\n",
    "                    m = re.match(r'(.*)\\(.*\\)',col)\n",
    "                    description_list[n] = m.group(1)\n",
    "        except:\n",
    "            pass\n",
    "        return description_list"
   ]
  },
  {
   "cell_type": "code",
   "execution_count": 5,
   "metadata": {
    "collapsed": true
   },
   "outputs": [],
   "source": [
    "class ColumnMatcher:\n",
    "    def __init__(self,content,charset,column):\n",
    "        self.content = content\n",
    "        self.__charset = charset\n",
    "        self.__column = column\n",
    "        \n",
    "    def csv_column_matching(self,content,charset,column):\n",
    "        try:\n",
    "            decoded_content = content.decode(charset)\n",
    "            cr = csv.reader(decoded_content.splitlines(), delimiter = ',')\n",
    "            content_list = list(cr)\n",
    "            headingCol = content_list[0] #讀csv第一欄為標題\n",
    "            clean_column = [x for x in headingCol if x != '']\n",
    "            if '\\ufeff' in clean_column[0]:\n",
    "                clean_column[0] = clean_column[0].replace('\\ufeff', '')\n",
    "            if set(column) == set(clean_column):\n",
    "                Col_matching = 'True'\n",
    "            else:\n",
    "                Col_matching = 'False'\n",
    "        except Exception as e:\n",
    "            Col_matching = str(e)\n",
    "        return Col_matching\n",
    "    def xml_column_matching(self,content,charset,column):\n",
    "        try:\n",
    "            XML = content.decode(charset)\n",
    "            root = ET.fromstring(XML)\n",
    "            tag_list = list()\n",
    "            for descendant in root.findall(\".//*\"):\n",
    "                if descendant.tag not in tag_list:\n",
    "                    tag_list.append(descendant.tag)\n",
    "            for n,tag in enumerate(tag_list):\n",
    "                if tag.startswith('{') and tag.find('}'):\n",
    "                    m = re.match(r'({.*})(.*)',tag)\n",
    "                    tag_list[n] = m.group(2)\n",
    "            if len(list(set(column).intersection(set(tag_list)))) == len(column):\n",
    "                Col_matching = 'True'\n",
    "            else:\n",
    "                Col_matching = 'False'\n",
    "        except Exception as e:\n",
    "            Col_matching = str(e)\n",
    "        return Col_matching \n",
    "    def json_column_matching(self,content,charset,column):\n",
    "        try:\n",
    "            decoded_content = content.decode(charset)\n",
    "            json_obj = json.loads(decoded_content)\n",
    "            json_key = list()\n",
    "            for i in json_obj:\n",
    "                for key in i.keys():\n",
    "                    if key not in json_key:\n",
    "                        json_key.append(key)\n",
    "            if set(column) == set(json_key):\n",
    "                Col_matching = 'True'\n",
    "            else:\n",
    "                Col_matching = 'Flase'\n",
    "        except Exception as e:\n",
    "                Col_matching = str(e)\n",
    "        return Col_matching\n",
    "    def xls_column_matching(self,content,charset,column):\n",
    "        try:\n",
    "            wb = xlrd.open_workbook(file_contents = content, encoding_override = 'cp950')\n",
    "            table = wb.sheets()[0]\n",
    "            nrows = table.nrows\n",
    "            xls_heading = table.row_values(0)  #讀xls第一欄為標題\n",
    "            if set (xls_heading) == set (column):\n",
    "                Col_matching = 'True'\n",
    "            else:\n",
    "                Col_matching = 'False'\n",
    "        except Exception as e:\n",
    "            Col_matching = str(e)\n",
    "        return Col_matching"
   ]
  },
  {
   "cell_type": "code",
   "execution_count": null,
   "metadata": {
    "collapsed": false
   },
   "outputs": [],
   "source": []
  },
  {
   "cell_type": "code",
   "execution_count": null,
   "metadata": {
    "collapsed": false
   },
   "outputs": [],
   "source": []
  },
  {
   "cell_type": "code",
   "execution_count": 6,
   "metadata": {
    "collapsed": false
   },
   "outputs": [],
   "source": [
    "class XlsWriters():\n",
    "    def writer(self, filename,data_list):\n",
    "        workbook = xlsxwriter.Workbook(filename, {'strings_to_urls': False})\n",
    "        worksheet = workbook.add_worksheet(u'評鑑範例表')\n",
    "        row = 0\n",
    "        col = 0\n",
    "        worksheet.write(row, col, u\"資料集Id\")\n",
    "        worksheet.write(row, col + 1, u\"資料集名稱\")\n",
    "        worksheet.write(row, col + 2, u\"資料所屬機關\")\n",
    "        worksheet.write(row, col + 3, u\"資料集連結\")\n",
    "        worksheet.write(row, col + 4, u\"主要欄位說明\")\n",
    "        worksheet.write(row, col + 5, u\"資料資源下載連結\")\n",
    "        worksheet.write(row, col + 6, u\"詮釋資料檔案格式\")\n",
    "        worksheet.write(row, col + 7, u\"詮釋資料文字編碼\")\n",
    "        worksheet.write(row, col + 8, u\"連線狀態\")\n",
    "        worksheet.write(row, col + 9, u\"資料資源檔案格式\")\n",
    "        worksheet.write(row, col + 10, u\"資料資源文字編碼\")\n",
    "        worksheet.write(row, col + 11, u\"欄位是否相符\")\n",
    "\n",
    "        row += 1\n",
    "        for i in data_list:\n",
    "            nid = i['nid']\n",
    "            title = i['title']\n",
    "            subOrg = i['subOrg']\n",
    "            dataset_link = i['dataset_link']\n",
    "            field_description = i['field_description']\n",
    "            resource_link = i['resource_link']\n",
    "            resource_Writeformat = i['resource_Writeformat']\n",
    "            resource_WriteCharset = i['resource_WriteCharset']\n",
    "            linkStatus = i['linkcode']\n",
    "            TrueFormat = i['true_format']\n",
    "            TrueCharset = i['true_Charset']\n",
    "            columnAlike = i['columnAlike']\n",
    "\n",
    "            worksheet.write(row, col, str(nid))\n",
    "            worksheet.write(row, col + 1, title)\n",
    "            worksheet.write(row, col + 2, subOrg)\n",
    "            worksheet.write(row, col + 3, dataset_link)\n",
    "            worksheet.write(row, col + 4, field_description)\n",
    "            worksheet.write(row, col + 5, resource_link)\n",
    "            worksheet.write(row, col + 6, resource_Writeformat)\n",
    "            worksheet.write(row, col + 7, resource_WriteCharset)\n",
    "            worksheet.write(row, col + 8, str(linkStatus))\n",
    "            worksheet.write(row, col + 9, TrueFormat)\n",
    "            worksheet.write(row, col + 10, str(TrueCharset))\n",
    "            worksheet.write(row, col + 11, columnAlike)\n",
    "            row += 1\n",
    "        time.sleep(3)\n",
    "        workbook.close()"
   ]
  },
  {
   "cell_type": "code",
   "execution_count": 7,
   "metadata": {
    "collapsed": false,
    "scrolled": false
   },
   "outputs": [],
   "source": [
    "Finance = Dao()\n",
    "#產生input data實例\n",
    "Finance_data = Finance.get_rows('Minstry of Finance.csv')\n",
    "#getRows() 取得列 rawdata 列表資料\n",
    "machine_readable = Finance.get_machine_readable()\n",
    "#get_machine_readable() 取得定義之機器可讀類型\n",
    "\n",
    "#iter raw data list\n",
    "for data in Finance_data[100:200]:\n",
    "    url = data['resource_link']\n",
    "    column = data['field_description']\n",
    "    write_Charset = data['resource_WriteCharset']\n",
    "    head_downloader = HeaderDownloader(url)\n",
    "    http_res = head_downloader.get_response(url)\n",
    "    data['linkcode'] = head_downloader.get_statuscode(http_res)\n",
    "    data['true_format'] = head_downloader.get_fileformat(http_res)\n",
    "    if data['true_format'] in ('', 'plain','Unknow'):\n",
    "        data['true_format'] = data['resource_Writeformat']\n",
    "    \n",
    "    if data['true_format'].upper() in machine_readable:\n",
    "        content = ContentDownloader(url,column)\n",
    "        content_session = content.get_session(url)\n",
    "        charset = content.charset_detect(content_session)\n",
    "        data['true_Charset'] = charset\n",
    "        description_list = content.field_description_clean(column)\n",
    "        match_column = ColumnMatcher(content_session,charset,description_list)\n",
    "        \n",
    "        if data['true_format'].upper() == 'CSV':\n",
    "            data['columnAlike'] = match_column.csv_column_matching(content_session,charset,description_list)\n",
    "        if data['true_format'].upper() == 'XML':\n",
    "            data['columnAlike'] = match_column.xml_column_matching(content_session,charset,description_list)\n",
    "        elif data['true_format'].upper() == 'JSON':\n",
    "            data['columnAlike'] = match_column.json_column_matching(content_session,charset,description_list)\n",
    "        elif data['true_format'].upper() in ('XLS', 'XLSX', 'VND.MS-EXCEL', 'VND.MS-EXCEL.12'):\n",
    "            data['columnAlike'] = match_column.xls_column_matching(content_session,charset,description_list)\n",
    "            \n",
    "xls_writer = XlsWriters()\n",
    "xls_writer.writer(\"sample_test.xls\",Finance_data)"
   ]
  },
  {
   "cell_type": "code",
   "execution_count": null,
   "metadata": {
    "collapsed": false
   },
   "outputs": [],
   "source": []
  },
  {
   "cell_type": "code",
   "execution_count": null,
   "metadata": {
    "collapsed": true
   },
   "outputs": [],
   "source": []
  },
  {
   "cell_type": "code",
   "execution_count": null,
   "metadata": {
    "collapsed": true
   },
   "outputs": [],
   "source": []
  },
  {
   "cell_type": "code",
   "execution_count": null,
   "metadata": {
    "collapsed": false
   },
   "outputs": [],
   "source": [
    "\n",
    "\n"
   ]
  },
  {
   "cell_type": "code",
   "execution_count": null,
   "metadata": {
    "collapsed": false
   },
   "outputs": [],
   "source": []
  },
  {
   "cell_type": "code",
   "execution_count": null,
   "metadata": {
    "collapsed": true
   },
   "outputs": [],
   "source": []
  },
  {
   "cell_type": "code",
   "execution_count": null,
   "metadata": {
    "collapsed": true
   },
   "outputs": [],
   "source": []
  },
  {
   "cell_type": "code",
   "execution_count": null,
   "metadata": {
    "collapsed": true
   },
   "outputs": [],
   "source": []
  }
 ],
 "metadata": {
  "kernelspec": {
   "display_name": "Python 3",
   "language": "python",
   "name": "python3"
  },
  "language_info": {
   "codemirror_mode": {
    "name": "ipython",
    "version": 3
   },
   "file_extension": ".py",
   "mimetype": "text/x-python",
   "name": "python",
   "nbconvert_exporter": "python",
   "pygments_lexer": "ipython3",
   "version": "3.5.1"
  }
 },
 "nbformat": 4,
 "nbformat_minor": 0
}
